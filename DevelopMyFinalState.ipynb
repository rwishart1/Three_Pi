{
 "cells": [
  {
   "cell_type": "markdown",
   "metadata": {},
   "source": [
    "# Develop the final state class\n",
    "## There are 3 parts of the class the user is primarily responsible for\n",
    "1. Calculations specific to each topology e.g. start time, missing mass,....\n",
    "2. Calculations common to all topologies, typically the Kinematics of the reaction\n",
    "3. The Data to be saved in an output tree"
   ]
  },
  {
   "cell_type": "markdown",
   "metadata": {},
   "source": [
    "## Topology Specific\n",
    "This requires defining the Topo_X functions where C is the number of the topology.\n",
    "These are saved in a seperate file ToposXXX.h. We will edit this directly in this Jupyter notebook.\n",
    "\n",
    "Here you can set the reaction start time to allow calculation of DeltaTime for PID purposes. It may be you want to take this from one particular type of particle such as scattered electron or tagger photon.\n",
    "You should also calculate the missing mass for this topology and other masses specific to a topology.\n",
    "\n",
    "Again you will need to change XXX to your class name\n",
    "\n",
    "**Note to save the file you must run the jupyter cell**\n",
    "\n",
    "You will probably want to use the reconstructed missing 4-vector as the atualll missing particle 4-vector. To do this, after calculating HSLorentzVector miss give it to the missing particle in the topology and fix its mass to the PDGMass, you can use the particle FixP4 function for this. For example, if the only particle I did not detect for a particular topology was the proton I can calculate miss and:\n",
    "\n",
    "fProton.FixP4(miss);"
   ]
  },
  {
   "cell_type": "code",
   "execution_count": 1,
   "metadata": {},
   "outputs": [],
   "source": [
    "%edit ToposThreePi.h"
   ]
  },
  {
   "cell_type": "code",
   "execution_count": null,
   "metadata": {},
   "outputs": [],
   "source": [
    "%%file ToposThreePi.h\n",
    "#include \"ThreePi.h\"\n",
    "void ThreePi::Topo_0(){\n",
    "  //For topology Electron:Proton:Pip:Pim:Gamma1:Gamma2\n",
    "\n",
    "  //if(fElectron.Detector()>0) {fGoodEvent=kFALSE;return;} //Put some cuts on particle detectors etc...\n",
    "  //Define starttime from electron candidate\n",
    "  fTrigger.StartTime(&fElectron);\n",
    "  //Subtract starttime from all particles\n",
    "  fTrigger.SubtractStartTime(&fElectron,&fProton,&fPip,&fPim,&fGamma1,&fGamma2);\n",
    "\n",
    "  //Reconstruct missing or combined particles\n",
    "  HSLorentzVector miss= fBeam + fTarget -fElectron.P4() -fProton.P4() -fPip.P4() -fPim.P4() -fGamma1.P4() -fGamma2.P4();\n",
    "  TD.MissMass2=miss.M2();\n",
    "  TD.MissMass=miss.M();\n",
    "}\n",
    "void ThreePi::Topo_1(){\n",
    "  //For topology Electron:Proton:Pip:Pim\n",
    "\n",
    "  //if(fElectron.Detector()>0) {fGoodEvent=kFALSE;return;} //Put some cuts on particle detectors etc...\n",
    "  //Define starttime from electron candidate\n",
    "  fTrigger.StartTime(&fElectron);\n",
    "  //Subtract starttime from all particles\n",
    "  fTrigger.SubtractStartTime(&fElectron,&fProton,&fPip,&fPim);\n",
    "\n",
    "  //Reconstruct missing or combined particles\n",
    "  HSLorentzVector miss= fBeam + fTarget -fElectron.P4() -fProton.P4() -fPip.P4() -fPim.P4();\n",
    "  TD.MissMass2=miss.M2();\n",
    "  TD.MissMass=miss.M();\n",
    "}\n",
    "void ThreePi::Topo_2(){\n",
    "  //For topology Electron:Proton:Pip:Gamma1:Gamma2\n",
    "\n",
    "  //if(fElectron.Detector()>0) {fGoodEvent=kFALSE;return;} //Put some cuts on particle detectors etc...\n",
    "  //Define starttime from electron candidate\n",
    "  fTrigger.StartTime(&fElectron);\n",
    "  //Subtract starttime from all particles\n",
    "  fTrigger.SubtractStartTime(&fElectron,&fProton,&fPip,&fGamma1,&fGamma2);\n",
    "\n",
    "  //Reconstruct missing or combined particles\n",
    "  HSLorentzVector miss= fBeam + fTarget -fElectron.P4() -fProton.P4() -fPip.P4() -fGamma1.P4() -fGamma2.P4();\n",
    "  TD.MissMass2=miss.M2();\n",
    "  TD.MissMass=miss.M();\n",
    "}\n",
    "void ThreePi::Topo_3(){\n",
    "  //For topology Electron:Proton:Pim:Gamma1:Gamma2\n",
    "\n",
    "  //if(fElectron.Detector()>0) {fGoodEvent=kFALSE;return;} //Put some cuts on particle detectors etc...\n",
    "  //Define starttime from electron candidate\n",
    "  fTrigger.StartTime(&fElectron);\n",
    "  //Subtract starttime from all particles\n",
    "  fTrigger.SubtractStartTime(&fElectron,&fProton,&fPim,&fGamma1,&fGamma2);\n",
    "\n",
    "  //Reconstruct missing or combined particles\n",
    "  HSLorentzVector miss= fBeam + fTarget -fElectron.P4() -fProton.P4() -fPim.P4() -fGamma1.P4() -fGamma2.P4();\n",
    "  TD.MissMass2=miss.M2();\n",
    "  TD.MissMass=miss.M();\n",
    "}\n"
   ]
  },
  {
   "cell_type": "code",
   "execution_count": 2,
   "metadata": {},
   "outputs": [
    {
     "name": "stdout",
     "output_type": "stream",
     "text": [
      "Created file '/home/robertw/analysis/mesonex/p3pi/ToposThreePi.h'.\n"
     ]
    }
   ],
   "source": [
    "%%file ToposThreePi.h\n",
    "#include \"ThreePi.h\"\n",
    "void ThreePi::Topo_0(){\n",
    "  //For topology Electron:Proton:Pip:Pim:Gamma1:Gamma2\n",
    "\n",
    "  //if(fElectron.Detector()>0) {fGoodEvent=kFALSE;return;} //Put some cuts on particle detectors etc...\n",
    "  //Define starttime from electron candidate\n",
    "  fTrigger.StartTime(&fElectron);\n",
    "  //Subtract starttime from all particles\n",
    "  fTrigger.SubtractStartTime(&fElectron,&fProton,&fPip,&fPim,&fGamma1,&fGamma2);\n",
    "\n",
    "  //Reconstruct missing or combined particles\n",
    "  HSLorentzVector miss= fBeam + fTarget -fElectron.P4() -fProton.P4() -fPip.P4() -fPim.P4() -fGamma1.P4() -fGamma2.P4();\n",
    "  TD.MissMass2=miss.M2();\n",
    "  TD.MissMass=miss.M();\n",
    "}\n",
    "void ThreePi::Topo_1(){\n",
    "  //For topology Electron:Proton:Pip:Pim\n",
    "\n",
    "  //if(fElectron.Detector()>0) {fGoodEvent=kFALSE;return;} //Put some cuts on particle detectors etc...\n",
    "  //Define starttime from electron candidate\n",
    "  fTrigger.StartTime(&fElectron);\n",
    "  //Subtract starttime from all particles\n",
    "  fTrigger.SubtractStartTime(&fElectron,&fProton,&fPip,&fPim);\n",
    "\n",
    "  //Reconstruct missing or combined particles\n",
    "  HSLorentzVector miss= fBeam + fTarget -fElectron.P4() -fProton.P4() -fPip.P4() -fPim.P4();\n",
    "  TD.MissMass2=miss.M2();\n",
    "  TD.MissMass=miss.M();\n",
    "}\n",
    "void ThreePi::Topo_2(){\n",
    "  //For topology Electron:Proton:Pip:Gamma1:Gamma2\n",
    "\n",
    "  //if(fElectron.Detector()>0) {fGoodEvent=kFALSE;return;} //Put some cuts on particle detectors etc...\n",
    "  //Define starttime from electron candidate\n",
    "  fTrigger.StartTime(&fElectron);\n",
    "  //Subtract starttime from all particles\n",
    "  fTrigger.SubtractStartTime(&fElectron,&fProton,&fPip,&fGamma1,&fGamma2);\n",
    "\n",
    "  //Reconstruct missing or combined particles\n",
    "  HSLorentzVector miss= fBeam + fTarget -fElectron.P4() -fProton.P4() -fPip.P4() -fGamma1.P4() -fGamma2.P4();\n",
    "  TD.MissMass2=miss.M2();\n",
    "  TD.MissMass=miss.M();\n",
    "}\n",
    "void ThreePi::Topo_3(){\n",
    "  //For topology Electron:Proton:Pim:Gamma1:Gamma2\n",
    "\n",
    "  //if(fElectron.Detector()>0) {fGoodEvent=kFALSE;return;} //Put some cuts on particle detectors etc...\n",
    "  //Define starttime from electron candidate\n",
    "  fTrigger.StartTime(&fElectron);\n",
    "  //Subtract starttime from all particles\n",
    "  fTrigger.SubtractStartTime(&fElectron,&fProton,&fPim,&fGamma1,&fGamma2);\n",
    "\n",
    "  //Reconstruct missing or combined particles\n",
    "  HSLorentzVector miss= fBeam + fTarget -fElectron.P4() -fProton.P4() -fPim.P4() -fGamma1.P4() -fGamma2.P4();\n",
    "  TD.MissMass2=miss.M2();\n",
    "  TD.MissMass=miss.M();\n",
    "}\n"
   ]
  },
  {
   "cell_type": "markdown",
   "metadata": {},
   "source": [
    "## Common Calculations : Kinematics\n",
    "The final state kinematics are common to all topologies so we only need to write one function.\n",
    "We can also make use of the Kinematics calculator HSKinematics (use as fKine) for calculating standard production and decay quantities. Remember to prefix any variable you wish to save with \"TM.\" then add them to the TreeData class in the next step."
   ]
  },
  {
   "cell_type": "code",
   "execution_count": 3,
   "metadata": {},
   "outputs": [],
   "source": [
    "%edit KinematicsThreePi.h"
   ]
  },
  {
   "cell_type": "code",
   "execution_count": null,
   "metadata": {},
   "outputs": [],
   "source": [
    "%%file KinematicsThreePi.h\n",
    "#include \"ThreePi.h\"\n",
    "void ThreePi::Kinematics(){\n",
    "  //\n",
    "}\n"
   ]
  },
  {
   "cell_type": "code",
   "execution_count": 4,
   "metadata": {},
   "outputs": [
    {
     "name": "stdout",
     "output_type": "stream",
     "text": [
      "Created file '/home/robertw/analysis/mesonex/p3pi/KinematicsThreePi.h'.\n"
     ]
    }
   ],
   "source": [
    "%%file KinematicsThreePi.h\n",
    "#include \"ThreePi.h\"\n",
    "void ThreePi::Kinematics(){\n",
    "  //\n",
    "}\n"
   ]
  },
  {
   "cell_type": "markdown",
   "metadata": {},
   "source": [
    "## Tree Data\n",
    "The data you write in a tree is connected via a TreeData class which has data members which will be the tree leafs i.e. data you can perform further analysis on (e.g. histogram, event fitting). Every variable you add to the class can be accessed in your final state class with TM.var=some number;"
   ]
  },
  {
   "cell_type": "code",
   "execution_count": 5,
   "metadata": {},
   "outputs": [],
   "source": [
    "%edit TreeDataThreePi.h"
   ]
  },
  {
   "cell_type": "code",
   "execution_count": null,
   "metadata": {},
   "outputs": [],
   "source": [
    "%%file TreeDataThreePi.h\n",
    "#ifndef TREEDATAThreePi_h\n",
    "#define TREEDATAThreePi_h \n",
    "#include \"TreeData.h\"\n",
    "#include \"FiledTree.h\"\n",
    "\n",
    "class TreeDataThreePi: public HS::TreeData{\n",
    " public:\n",
    "  //data member for tree branches below here\n",
    "  Double_t MissMass=0;\n",
    "  Double_t MissMass2=0;\n",
    "\n",
    "\n",
    "  //Function required to set tree branches\n",
    "  void Branches(HS::ttree_ptr tree) final{\n",
    "    TreeData::Branches(tree,Class()->GetListOfDataMembers());\n",
    "  }\n",
    "  ClassDefOverride(TreeDataThreePi,1);\n",
    "};\n",
    "#endif\n"
   ]
  },
  {
   "cell_type": "code",
   "execution_count": 6,
   "metadata": {},
   "outputs": [
    {
     "name": "stdout",
     "output_type": "stream",
     "text": [
      "Created file '/home/robertw/analysis/mesonex/p3pi/TreeDataThreePi.h'.\n"
     ]
    }
   ],
   "source": [
    "%%file TreeDataThreePi.h\n",
    "#ifndef TREEDATAThreePi_h\n",
    "#define TREEDATAThreePi_h \n",
    "#include \"TreeData.h\"\n",
    "#include \"FiledTree.h\"\n",
    "\n",
    "class TreeDataThreePi: public HS::TreeData{\n",
    " public:\n",
    "  //data member for tree branches below here\n",
    "  Double_t MissMass=0;\n",
    "  Double_t MissMass2=0;\n",
    "\n",
    "\n",
    "  //Function required to set tree branches\n",
    "  void Branches(HS::ttree_ptr tree) final{\n",
    "    TreeData::Branches(tree,Class()->GetListOfDataMembers());\n",
    "  }\n",
    "  ClassDefOverride(TreeDataThreePi,1);\n",
    "};\n",
    "#endif\n"
   ]
  },
  {
   "cell_type": "code",
   "execution_count": null,
   "metadata": {},
   "outputs": [],
   "source": []
  }
 ],
 "metadata": {
  "kernelspec": {
   "display_name": "ROOT C++",
   "language": "c++",
   "name": "root"
  },
  "language_info": {
   "codemirror_mode": "text/x-c++src",
   "file_extension": ".C",
   "mimetype": " text/x-c++src",
   "name": "c++"
  }
 },
 "nbformat": 4,
 "nbformat_minor": 2
}
