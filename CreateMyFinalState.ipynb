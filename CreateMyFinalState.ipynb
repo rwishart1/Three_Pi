{
 "cells": [
  {
   "cell_type": "markdown",
   "metadata": {},
   "source": [
    "# Create your own final state class\n",
    "\n",
    "First 2 lines set the environment you should have HSCODE set as an shell environment variable when you start up root --notebook"
   ]
  },
  {
   "cell_type": "code",
   "execution_count": 1,
   "metadata": {},
   "outputs": [
    {
     "name": "stdout",
     "output_type": "stream",
     "text": [
      "$$$$$$$$$$$$$$$$$$$$$$$$$ Skeleton\n",
      "$$$$$$$$$$$$$$$$$$$$$$$$$ FSSkeleton\n",
      "$$$$$$$$$$$$$$$$$$$$$$$$$ CLAS12Skeleton\n",
      "$$$$$$$$$$$$$$$$$$$$$$$$$ CLASSkeleton\n"
     ]
    }
   ],
   "source": [
    "gROOT->ProcessLine(Form(\".x $HSCODE/hsskeleton/LoadSkeleton.C+\"));"
   ]
  },
  {
   "cell_type": "markdown",
   "metadata": {},
   "source": [
    "Create the skeleton code maker. This will be used to configure and produce the final state class.\n",
    "If you want to analyse CLAS data replace FSSkeleton with CLASSkeleton\n",
    "If you want to analyse CLAS12 data replace FSSkeleton with CLAS12Skeleton\n",
    "..."
   ]
  },
  {
   "cell_type": "code",
   "execution_count": 2,
   "metadata": {},
   "outputs": [],
   "source": [
    "CLAS12Skeleton sk;"
   ]
  },
  {
   "cell_type": "markdown",
   "metadata": {},
   "source": [
    "Give your class a name e.g. replace YourNameNotThis with Pi2, OmegaP,... Just do not start with a number"
   ]
  },
  {
   "cell_type": "code",
   "execution_count": 3,
   "metadata": {},
   "outputs": [],
   "source": [
    "sk.SetFinalState(\"ThreePi\");"
   ]
  },
  {
   "cell_type": "markdown",
   "metadata": {},
   "source": [
    "Set names of actual final state particles of the reaction that you will use.\n",
    "\n",
    "**First detected particles**\n",
    "\n",
    "Syntax Name1:type1, Name2:type2, ... where type corresponds to a ROOT PDG name and NameX is used to add a THSParticle data member fName1 to the final state class.\n",
    "\n",
    "e.g. sk->SetFinalStateParts(\"Electron:e-, Proton:proton, Pip:pi+, Pim:pi-, Gamma1:gamma, Gamma2:gamma\");\n",
    "\n",
    "For tagged photon beam experiments use \"Beam:Beam,...\""
   ]
  },
  {
   "cell_type": "code",
   "execution_count": 4,
   "metadata": {},
   "outputs": [],
   "source": [
    "sk.SetFinalStateParts(\"Electron:e-, Proton:proton, Pip:pi+, Pim:pi-, Gamma1:gamma, Gamma2:gamma\");"
   ]
  },
  {
   "cell_type": "markdown",
   "metadata": {},
   "source": [
    "Set the **DETECTED** particle combinations you will analyse in each topology.\n",
    "\n",
    "Here you must use the names you defined with SetFinalStateParts()\n",
    "\n",
    "**Syntax**: p1:p2:p3 for 1 topology, seperate with a \",\" then p1:p2 for next, etc.\n",
    "e.g. sk->SetFinalStateTopo(\"Electron:Proton:Pip:Pim:Gamma1:Gamma2 , Electron:Proton:Pip:Pim\");"
   ]
  },
  {
   "cell_type": "code",
   "execution_count": 5,
   "metadata": {},
   "outputs": [],
   "source": [
    " sk.SetFinalStateTopo(\"Electron:Proton:Pip:Pim:Gamma1:Gamma2, Electron:Proton:Pip:Pim, Electron:Proton:Pip:Gamma1:Gamma2, Electron:Proton:Pim:Gamma1:Gamma2\");"
   ]
  },
  {
   "cell_type": "markdown",
   "metadata": {},
   "source": [
    "**Second Parent particles that may have decayed**\n",
    "This information is needed to construct the iterators for the different topologies.\n",
    "You must give the parent particle name, type and decay products. \n",
    "A Parent defined here may also be a child of another parent.\n",
    "e.g. sk->SetFinalStateParents(\"Pi0:pi0;Gamma1;Gamma2, Omega:omega;Pip;Pim;Pi0\");\n",
    "This defines and omega decaying to 3pi (pi+,pi0,pi-) with the pi0 decaying to 2 gamma.\n",
    "Pip, Pim, Gamma1, Gamma2 are detected particles defined in the previous step."
   ]
  },
  {
   "cell_type": "code",
   "execution_count": 6,
   "metadata": {},
   "outputs": [],
   "source": [
    "sk.SetFinalStateParents(\"Pi0:pi0;Gamma1;Gamma2, Omega:omega;Pip;Pim;Pi0\");"
   ]
  },
  {
   "cell_type": "markdown",
   "metadata": {},
   "source": [
    "Now make some code "
   ]
  },
  {
   "cell_type": "code",
   "execution_count": 7,
   "metadata": {},
   "outputs": [
    {
     "name": "stdout",
     "output_type": "stream",
     "text": [
      " Create Topo Electron:Proton:Pip:Pim:Gamma1:Gamma2 6\n",
      " Create Topo Electron:Proton:Pip:Pim 4\n",
      " Create Topo Electron:Proton:Pip:Gamma1:Gamma2 5\n",
      " Create Topo Electron:Proton:Pim:Gamma1:Gamma2 5\n"
     ]
    }
   ],
   "source": [
    "sk.MakeCode();"
   ]
  },
  {
   "cell_type": "markdown",
   "metadata": {},
   "source": [
    "You should now see some new files in your current directory"
   ]
  },
  {
   "cell_type": "code",
   "execution_count": 8,
   "metadata": {},
   "outputs": [
    {
     "name": "stdout",
     "output_type": "stream",
     "text": [
      "CreateMyFinalState.ipynb\n",
      "DevelopMyFinalState.ipynb\n",
      "hists.root\n",
      "KinematicsThreePi.h\n",
      "LoadThreePi.C\n",
      "particleTrees\n",
      "Plotting.ipynb\n",
      "RunFSHipoThreePi.C\n",
      "RunFSLundThreePi.C\n",
      "RunFSRootThreePi.C\n",
      "RunHipo.ipynb\n",
      "Run_ROOT_ApplyMVA.ipynb\n",
      "RunROOT.ipynb\n",
      "Run_ROOT_MVATrain.ipynb\n",
      "ThreePi.C\n",
      "ThreePi_C_ACLiC_dict_rdict.pcm\n",
      "ThreePi_C.d\n",
      "ThreePi_C.so\n",
      "ThreePi.h\n",
      "ToposThreePi.h\n",
      "TreeDataThreePi.C\n",
      "TreeDataThreePi_C_ACLiC_dict_rdict.pcm\n",
      "TreeDataThreePi_C.d\n",
      "TreeDataThreePi_C.so\n",
      "TreeDataThreePi.h\n"
     ]
    }
   ],
   "source": [
    ".!ls"
   ]
  },
  {
   "cell_type": "markdown",
   "metadata": {},
   "source": [
    "You can make sure it compiles OK. A script LoadXXX.C wil have been created (where XXX is your finals state name i.e. sk.SetFinalState(\"YourNameNotThis\");). This will compile and load all the required classes. Try executing it and create an object of your class"
   ]
  },
  {
   "cell_type": "code",
   "execution_count": 9,
   "metadata": {},
   "outputs": [
    {
     "name": "stdout",
     "output_type": "stream",
     "text": [
      "KKKKKKKKKKKKKKKKKKKKKKKKKKKKKKKKKKKKKK\n",
      "C12C12C12C12C12C12C12C12C12    utils\n",
      "C12C12C12C12C12C12C12C12C12    dictionary\n",
      "C12C12C12C12C12C12C12C12C12    node\n",
      "C12C12C12C12C12C12C12C12C12    event\n",
      "C12C12C12C12C12C12C12C12C12    record\n",
      "C12C12C12C12C12C12C12C12C12    reader\n",
      "C12C12C12C12C12C12C12C12C12    bank\n",
      "C12C12C12C12C12C12C12C12C12    header\n",
      "C12C12C12C12C12C12C12C12C12    particle\n",
      "C12C12C12C12C12C12C12C12C12    mcparticle\n",
      "C12C12C12C12C12C12C12C12C12    particle_detector\n",
      "C12C12C12C12C12C12C12C12C12    scintillator\n",
      "C12C12C12C12C12C12C12C12C12    calorimeter\n",
      "C12C12C12C12C12C12C12C12C12    cherenkov\n",
      "C12C12C12C12C12C12C12C12C12    forwardtagger\n",
      "C12C12C12C12C12C12C12C12C12    tracker\n",
      "C12C12C12C12C12C12C12C12C12    covmatrix\n",
      "C12C12C12C12C12C12C12C12C12    region_particle\n",
      "C12C12C12C12C12C12C12C12C12    region_ft\n",
      "C12C12C12C12C12C12C12C12C12    region_fdet\n",
      "C12C12C12C12C12C12C12C12C12    region_cdet\n",
      "C12C12C12C12C12C12C12C12C12    hallB_event\n",
      "%%%%%%%%%%%%%%%%%%%%%%%%%    FiledTree\n"
     ]
    },
    {
     "name": "stderr",
     "output_type": "stream",
     "text": [
      "Info in <ACLiC>: unmodified script has already been compiled and loaded\n"
     ]
    },
    {
     "name": "stdout",
     "output_type": "stream",
     "text": [
      "%%%%%%%%%%%%%%%%%%%%%%%%%    TreeData\n",
      "%%%%%%%%%%%%%%%%%%%%%%%%%    BaseParticleData\n",
      "%%%%%%%%%%%%%%%%%%%%%%%%%    BaseEventInfo\n",
      "%%%%%%%%%%%%%%%%%%%%%%%%%    BaseRunInfo\n",
      "%%%%%%%%%%%%%%%%%%%%%%%%%    Weights\n",
      "%%%%%%%%%%%%%%%%%%%%%%%%%    Bins\n",
      "%%%%%%%%%%%%%%%%%%%%%%%%%    DataManager\n",
      "%%%%%%%%%%%%%%%%%%%%%%%%%    LundReader\n",
      "12121212121212121212121212 EventInfo\n",
      "12121212121212121212121212 RunInfo\n",
      "12121212121212121212121212 HipoToolsReader\n",
      "12121212121212121212121212 ParticleData\n",
      "&&&&&&&&&&&&&&&&&&&&&&&&&&&& HSKinematics\n",
      "&&&&&&&&&&&&&&&&&&&&&&&&&&&& Cuts\n",
      "&&&&&&&&&&&&&&&&&&&&&&&&&&&& Combitorial\n",
      "&&&&&&&&&&&&&&&&&&&&&&&&&&&& ParticleIter\n",
      "&&&&&&&&&&&&&&&&&&&&&&&&&&&& Topology\n",
      "&&&&&&&&&&&&&&&&&&&&&&&&&&&& FinalState\n",
      "&&&&&&&&&&&&&&&&&&&&&&&&&&&& FiledTree\n",
      "&&&&&&&&&&&&&&&&&&&&&&&&&&&& TopoActionManager\n",
      "&&&&&&&&&&&&&&&&&&&&&&&&&&&& ParticleCuts\n",
      "&&&&&&&&&&&&&&&&&&&&&&&&&&&& TreeParticleData\n",
      "&&&&&&&&&&&&&&&&&&&&&&&&&&&& MVASignalID\n"
     ]
    },
    {
     "name": "stderr",
     "output_type": "stream",
     "text": [
      "Info in <ACLiC>: unmodified script has already been compiled and loaded\n"
     ]
    },
    {
     "name": "stdout",
     "output_type": "stream",
     "text": [
      "&&&&&&&&&&&&&&&&&&&&&&&&&&&& ParticleCutsManager\n",
      "&&&&&&&&&&&&&&&&&&&&&&&&&&&& ParticleDataManager\n",
      "&&&&&&&&&&&&&&&&&&&&&&&&&&&& MVASignalIDManager\n",
      "12121212121212121212121212 CLAS12Trigger\n",
      "12121212121212121212121212 CLAS12DeltaTime\n"
     ]
    },
    {
     "name": "stderr",
     "output_type": "stream",
     "text": [
      "Info in <TUnixSystem::ACLiC>: creating shared library /home/robertw/analysis/mesonex/p3pi/./TreeDataThreePi_C.so\n",
      "Info in <TUnixSystem::ACLiC>: creating shared library /home/robertw/analysis/mesonex/p3pi/./ThreePi_C.so\n"
     ]
    }
   ],
   "source": [
    "gROOT->ProcessLine(\".x LoadThreePi.C+\");"
   ]
  },
  {
   "cell_type": "code",
   "execution_count": 10,
   "metadata": {},
   "outputs": [
    {
     "name": "stdout",
     "output_type": "stream",
     "text": [
      " WARNING running HS::FinalState::AutoIter() you  should check the topology print output and make sure the displayed iterator is waht you want ..\n",
      " WARNING running HS::FinalState::AutoIter() you  should check the topology print output and make sure the displayed iterator is waht you want ..\n",
      " WARNING running HS::FinalState::AutoIter() you  should check the topology print output and make sure the displayed iterator is waht you want ..\n",
      " WARNING running HS::FinalState::AutoIter() you  should check the topology print output and make sure the displayed iterator is waht you want ..\n",
      " Topology::Print() : 0\n",
      "    particles = -10000 -10000 0 0 10000 10000 \n",
      "You can have any number of the following particles : \n",
      " ALL \n",
      "The following particle are identified by pdg code : \n",
      " ALL \n",
      " ParticleIter::Print() \n",
      "     Type : 2 number chosen 1 of id  11 and number used here = 1\n",
      " ParticleIter::Print() \n",
      "     Type : 2 number chosen 2 of id  22 and number used here = 2\n",
      " ParticleIter::Print() \n",
      "     Type : 2 number chosen 1 of id  2212 and number used here = 1\n",
      " ParticleIter::Print() \n",
      "     Type : 2 number chosen 1 of id  -211 and number used here = 1\n",
      " ParticleIter::Print() \n",
      "     Type : 2 number chosen 1 of id  211 and number used here = 1\n",
      "\n",
      " Topology::Print() : 1\n",
      "    particles = -10000 -10000 10000 10000 \n",
      "You can have any number of the following particles : \n",
      " ALL \n",
      "The following particle are identified by pdg code : \n",
      " ALL \n",
      " ParticleIter::Print() \n",
      "     Type : 2 number chosen 1 of id  11 and number used here = 1\n",
      " ParticleIter::Print() \n",
      "     Type : 2 number chosen 1 of id  2212 and number used here = 1\n",
      " ParticleIter::Print() \n",
      "     Type : 2 number chosen 1 of id  -211 and number used here = 1\n",
      " ParticleIter::Print() \n",
      "     Type : 2 number chosen 1 of id  211 and number used here = 1\n",
      "\n",
      " Topology::Print() : 2\n",
      "    particles = -10000 0 0 10000 10000 \n",
      "You can have any number of the following particles : \n",
      " ALL \n",
      "The following particle are identified by pdg code : \n",
      " ALL \n",
      " ParticleIter::Print() \n",
      "     Type : 2 number chosen 1 of id  11 and number used here = 1\n",
      " ParticleIter::Print() \n",
      "     Type : 2 number chosen 2 of id  22 and number used here = 2\n",
      " ParticleIter::Print() \n",
      "     Type : 2 number chosen 1 of id  2212 and number used here = 1\n",
      " ParticleIter::Print() \n",
      "     Type : 2 number chosen 1 of id  211 and number used here = 1\n",
      "\n",
      " Topology::Print() : 3\n",
      "    particles = -10000 -10000 0 0 10000 \n",
      "You can have any number of the following particles : \n",
      " ALL \n",
      "The following particle are identified by pdg code : \n",
      " ALL \n",
      " ParticleIter::Print() \n",
      "     Type : 2 number chosen 1 of id  11 and number used here = 1\n",
      " ParticleIter::Print() \n",
      "     Type : 2 number chosen 2 of id  22 and number used here = 2\n",
      " ParticleIter::Print() \n",
      "     Type : 2 number chosen 1 of id  2212 and number used here = 1\n",
      " ParticleIter::Print() \n",
      "     Type : 2 number chosen 1 of id  -211 and number used here = 1\n",
      "\n"
     ]
    }
   ],
   "source": [
    "ThreePi finalstate;"
   ]
  },
  {
   "cell_type": "markdown",
   "metadata": {},
   "source": [
    "And now you can customise the class further\n",
    "Link to [Final State functions](DevelopMyFinalState.ipynb)"
   ]
  },
  {
   "cell_type": "code",
   "execution_count": null,
   "metadata": {},
   "outputs": [],
   "source": []
  }
 ],
 "metadata": {
  "kernelspec": {
   "display_name": "ROOT C++",
   "language": "c++",
   "name": "root"
  },
  "language_info": {
   "codemirror_mode": "text/x-c++src",
   "file_extension": ".C",
   "mimetype": " text/x-c++src",
   "name": "c++"
  }
 },
 "nbformat": 4,
 "nbformat_minor": 2
}
